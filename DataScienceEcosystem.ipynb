{
 "cells": [
  {
   "cell_type": "markdown",
   "id": "0f8cccee-b008-4354-a716-1cba0cbe2fbb",
   "metadata": {},
   "source": [
    "<center>\n",
    "    <img src=\"https://cf-courses-data.s3.us.cloud-object-storage.appdomain.cloud/IBMDeveloperSkillsNetwork-DS0105EN-SkillsNetwork/labs/Module2/images/SN_web_lightmode.png\" width=\"300\" alt=\"cognitiveclass.ai logo\">\n",
    "</center>\n"
   ]
  },
  {
   "cell_type": "markdown",
   "id": "6c6d3e68-e4e9-473e-84a8-14ab4e71ddf3",
   "metadata": {
    "tags": []
   },
   "source": [
    "#### Add your code below following the instructions given in the course"
   ]
  },
  {
   "cell_type": "markdown",
   "id": "da36c757-5afe-4635-b2db-5428ffde3cfd",
   "metadata": {
    "tags": []
   },
   "source": [
    "# Data Science Tools and Ecosystem"
   ]
  },
  {
   "cell_type": "markdown",
   "id": "62eeef4b-1f1a-4304-97e0-c026ebbe358d",
   "metadata": {},
   "source": [
    "In this Notebook Data Science Tools and Ecosystems are summarized."
   ]
  },
  {
   "cell_type": "markdown",
   "id": "26960e86-6f50-4092-82cd-e02fdce68b2d",
   "metadata": {},
   "source": [
    "**Objectives:**\n",
    "\n",
    "* Create and use Jupyter Notebook\n",
    "* list of popular data science languages\n",
    "* list of commonly used data science libraries\n",
    "* Create a table of open-source Data Science tools\n",
    "* Use GitHub\n",
    "\n"
   ]
  },
  {
   "cell_type": "markdown",
   "id": "cfc18637-0091-4f98-a73e-78bc079b46e5",
   "metadata": {
    "tags": []
   },
   "source": [
    "Some of the popular languages that Data Scientists use are:\n",
    "\n",
    "1. Python\n",
    "2. SQL\n",
    "3. Java\n",
    "4. R\n",
    "5. Julia\n",
    "6. Scala"
   ]
  },
  {
   "cell_type": "markdown",
   "id": "9fdbbaf5-ca54-4b4f-9beb-1e7b12dc8168",
   "metadata": {},
   "source": [
    "Some of the commonly used libraries used by Data Scientists include:\n",
    "\n",
    "1. Pandas\n",
    "2. NumPy\n",
    "3. Matlibplot\n",
    "4. SciPy\n",
    "5. TensorFlow"
   ]
  },
  {
   "cell_type": "markdown",
   "id": "f5f1664a-fc4f-4aa4-a563-6034b2868353",
   "metadata": {
    "tags": []
   },
   "source": [
    "|Data Science Tools|\n",
    "|---|\n",
    "|Jupyter Lab and Notebooks|\n",
    "|R-Studio|\n",
    "|Visual Studio Code|\n"
   ]
  },
  {
   "cell_type": "markdown",
   "id": "89b132f3-6684-4b6f-a280-fada408fc5e5",
   "metadata": {
    "tags": []
   },
   "source": [
    "### Below are a few examples of evaluating arithmetic expressions in Python"
   ]
  },
  {
   "cell_type": "code",
   "execution_count": 14,
   "id": "ad6d448d-65c6-4e71-b433-9b75a48d08eb",
   "metadata": {
    "tags": []
   },
   "outputs": [
    {
     "data": {
      "text/plain": [
       "17"
      ]
     },
     "execution_count": 14,
     "metadata": {},
     "output_type": "execute_result"
    }
   ],
   "source": [
    "# this is a simple arithmatic expression multiply then add intergers\n",
    "\n",
    "(3*4)+5"
   ]
  },
  {
   "cell_type": "code",
   "execution_count": 28,
   "id": "c51e9c4a-5f45-407d-ac23-c695536e4b49",
   "metadata": {
    "tags": []
   },
   "outputs": [
    {
     "name": "stdout",
     "output_type": "stream",
     "text": [
      "3 hours and 20 minutes\n"
     ]
    }
   ],
   "source": [
    "# This will convert 200 minutes to hours by dividing by 60\n",
    "\n",
    "print(200//60,\"hours and\",200%60, \"minutes\")"
   ]
  },
  {
   "cell_type": "markdown",
   "id": "8c12313c-558d-47c0-8d34-eb8d6739ca0e",
   "metadata": {
    "tags": []
   },
   "source": [
    "### Author\n",
    "Thato Mogotsi"
   ]
  }
 ],
 "metadata": {
  "kernelspec": {
   "display_name": "Python",
   "language": "python",
   "name": "conda-env-python-py"
  },
  "language_info": {
   "codemirror_mode": {
    "name": "ipython",
    "version": 3
   },
   "file_extension": ".py",
   "mimetype": "text/x-python",
   "name": "python",
   "nbconvert_exporter": "python",
   "pygments_lexer": "ipython3",
   "version": "3.7.12"
  }
 },
 "nbformat": 4,
 "nbformat_minor": 5
}
